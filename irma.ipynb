{
 "metadata": {
  "language_info": {
   "codemirror_mode": {
    "name": "ipython",
    "version": 3
   },
   "file_extension": ".py",
   "mimetype": "text/x-python",
   "name": "python",
   "nbconvert_exporter": "python",
   "pygments_lexer": "ipython3",
   "version": "3.8.5"
  },
  "orig_nbformat": 2,
  "kernelspec": {
   "name": "python38564bitbaseconda6a1770027b924823bf65f396110ad90f",
   "display_name": "Python 3.8.5 64-bit ('base': conda)"
  },
  "metadata": {
   "interpreter": {
    "hash": "bc4fbd6e1bea1fda9411923f753f92d3282c070fdbd959891bf5a78b35520a26"
   }
  }
 },
 "nbformat": 4,
 "nbformat_minor": 2,
 "cells": [
  {
   "cell_type": "code",
   "execution_count": 1,
   "metadata": {},
   "outputs": [],
   "source": [
    "import pandas as pd\n",
    "import numpy as np\n",
    "import logging\n",
    "\n",
    "\n",
    "class Datapoint():\n",
    "    def __init__(self, km, price):\n",
    "        self.km = km\n",
    "        self.price = price\n",
    "\n",
    "\n",
    "    def __str__(self):\n",
    "        return (f\"km: {self.km}, price {self.price}\")\n",
    "\n",
    "\n",
    "    def __repr__(self):\n",
    "        return (f\"km: {self.km}, price {self.price}\")\n",
    "\n",
    "class Dataset():\n",
    "    def __init__(self, path):\n",
    "        self.data = None\n",
    "        self.i = -1\n",
    "        self.read_csv(path)\n",
    "\n",
    "\n",
    "    def read_csv(self, path):\n",
    "        self.data = pd.read_csv(path).to_numpy()\n",
    "        try:\n",
    "            self.p = self.data.shape[1] - 1\n",
    "            self.m = self.data.shape[0]\n",
    "        except:\n",
    "            logging.error(f\"Input needs to have at least two dimensions. Input dimension was {self.data.shape}\")\n",
    "            raise ValueError\n",
    "\n",
    "        self.x = self.data[:, [x for x in range(self.p)]]\n",
    "        self.x = np.concatenate((np.ones([self.m, 1], dtype = self.x.dtype), self.x), axis = 1)\n",
    "        self.y = self.data[:, self.p]\n",
    "        self.x_sum = np.sum(self.x)\n",
    "        self.y_sum = np.sum(self.y)\n",
    "        self.x = self.x / self.x_sum\n",
    "        self.y = self.y / self.y_sum\n",
    "\n",
    "\n",
    "\n",
    "    def __getitem__(self, i):\n",
    "        return (self.x[i], self.y[i])\n",
    "    \n",
    "\n",
    "    def __len__(self):\n",
    "        return (self.data.shape[0])\n",
    "\n",
    "    \n",
    "    def __iter__(self):\n",
    "        self.i = -1\n",
    "        return (self)\n",
    "\n",
    "    def __next__(self):\n",
    "        self.i += 1\n",
    "        if (self.i < len(self)):\n",
    "            return self[self.i]\n",
    "        else:\n",
    "            self.i = -1\n",
    "            raise StopIteration"
   ]
  },
  {
   "cell_type": "code",
   "execution_count": 24,
   "metadata": {
    "tags": []
   },
   "outputs": [],
   "source": [
    "float_formatter = \"{:.2E}\".format\n",
    "np.set_printoptions(formatter={'float_kind':float_formatter})\n",
    "\n",
    "def normalize(a):\n",
    "    col_sums = a.sum(axis=0)\n",
    "    new_matrix = a / col_sums[np.newaxis, :]\n",
    "    return new_matrix\n",
    "\n",
    "class Shaman():\n",
    "    def __init__(self, dataset):\n",
    "        self.p = dataset.p\n",
    "        self.dataset = dataset\n",
    "        self.thetas = np.zeros([self.p + 1], dtype = float)\n",
    "        self.old_thetas = self.thetas\n",
    "        self.lr = 1.0\n",
    "        self.lr_decay = 1.0 / 2\n",
    "        self.mininal_improvement = 0.1\n",
    "        self.newcost = 0.0\n",
    "        self.oldcost = 0.0\n",
    "        self.c = 1.0 / 2\n",
    "        self.tau = 1.0 / 2\n",
    "        self.lr_increase = 1.5\n",
    "\n",
    "\n",
    "    def predict(self, data, thetas = None):\n",
    "        if thetas is None:\n",
    "            thetas = self.thetas\n",
    "        return (np.dot(data, thetas))\n",
    "\n",
    "\n",
    "    def error(self, thetas = None):\n",
    "        if thetas is None:\n",
    "            thetas = self.thetas\n",
    "        predictions = self.predict(self.dataset.x, thetas)\n",
    "        error = predictions - self.dataset.y\n",
    "        return (error)\n",
    "\n",
    "\n",
    "    def mean_squared_error(self, thetas = None):\n",
    "        if thetas is None:\n",
    "            thetas = self.thetas   \n",
    "        squared_error = np.square(self.error(thetas))\n",
    "        return (np.mean(squared_error) / 2)\n",
    "\n",
    "\n",
    "    def compute_gradients(self):\n",
    "        error = self.error()\n",
    "        gradients = np.dot(error, normalize(self.dataset.x))\n",
    "        gradients = gradients / len(self.dataset.y)\n",
    "        return (gradients)\n",
    "\n",
    "\n",
    "    def ajimo_goldstein_condition(self, l2_grad_squared, gradients, lr):\n",
    "        thetas = self.thetas - lr * gradients\n",
    "        cost = self.mean_squared_error(thetas)\n",
    "        objective = self.newcost - (self.c * lr * l2_grad_squared)\n",
    "        return (cost <= objective)\n",
    "\n",
    "\n",
    "    def ajimo(self, gradients):\n",
    "        l2_grad_squared = np.square(gradients).sum()\n",
    "        lr = self.lr * self.lr_increase\n",
    "        while (not self.ajimo_goldstein_condition(l2_grad_squared, gradients, lr)):\n",
    "            lr = lr * self.lr_decay\n",
    "        self.lr = lr\n",
    "\n",
    "    def update_thetas(self):\n",
    "        self.old_thetas = self.thetas\n",
    "        gradients = self.compute_gradients()\n",
    "        self.ajimo(gradients)\n",
    "        self.thetas = self.thetas - (self.lr * gradients)\n",
    "\n",
    "    \n",
    "    def update_costs(self):\n",
    "        tmpold = self.oldcost\n",
    "        self.oldcost = self.newcost\n",
    "        self.newcost = self.mean_squared_error()\n",
    "        return tmpold\n",
    "\n",
    "\n",
    "    def undo_update_costs(self, tmpold):\n",
    "        self.newcost =self.oldcost\n",
    "        self.oldcost = tmpold\n",
    "\n",
    "\n",
    "    def training_loop(self):\n",
    "        keep_learning = True\n",
    "        self.newcost = self.mean_squared_error()\n",
    "        while (keep_learning):\n",
    "            tmpold = self.oldcost\n",
    "            self.update_thetas()\n",
    "            tmpold = self.update_costs()\n",
    "            if (self.newcost > self.oldcost):\n",
    "                self.lr = self.lr * self.lr_decay\n",
    "                self.thetas = self.old_thetas\n",
    "                self.undo_update_costs(tmpold)\n",
    "            keep_learning = not self.should_i_stop()\n",
    "            # print(self)\n",
    "\n",
    "\n",
    "    def middle_error(self):\n",
    "        middle_thetas = (self.thetas + self.old_thetas) / 2\n",
    "        return self.mean_squared_error(middle_thetas)\n",
    "\n",
    "    \n",
    "    def should_i_stop(self):\n",
    "        if abs(self.oldcost - self.newcost) > self.mininal_improvement:\n",
    "            return False\n",
    "        if abs(self.middle_error() - self.newcost) > self.mininal_improvement:\n",
    "            return False\n",
    "        return True\n",
    "\n",
    "\n",
    "    def __str__(self):\n",
    "        return (f\"Cost: {self.newcost:.2e}, Thetas: {self.thetas}, LR {self.lr:4.2E}\")\n"
   ]
  },
  {
   "cell_type": "code",
   "execution_count": 25,
   "metadata": {
    "tags": []
   },
   "outputs": [
    {
     "output_type": "stream",
     "name": "stdout",
     "text": [
      "Current Time = 21:04:13\n",
      "Current Time = 21:05:04\n"
     ]
    }
   ],
   "source": [
    "from datetime import datetime\n",
    "now = datetime.now()\n",
    "d = Dataset(\"data.csv\")\n",
    "shaman = Shaman(d)\n",
    "now = datetime.now()\n",
    "current_time = now.strftime(\"%H:%M:%S\")\n",
    "print(\"Current Time =\", current_time)\n",
    "shaman.training_loop()\n",
    "now = datetime.now()\n",
    "current_time = now.strftime(\"%H:%M:%S\")\n",
    "print(\"Current Time =\", current_time)\n",
    "# shaman.predict(d.x[0])\n",
    "# shaman.predict(d.x)\n",
    "# print(shaman)\n",
    "# shaman.update_thetas(d)\n",
    "# print(shaman)\n",
    "# shaman.compute_gradients(d)"
   ]
  },
  {
   "cell_type": "code",
   "execution_count": 26,
   "metadata": {},
   "outputs": [
    {
     "output_type": "stream",
     "name": "stdout",
     "text": [
      "Cost: 2.54e+05, Thetas: [7.95E+03 -1.71E-02], LR 6.35E-04\n3839\t 3650\n5556\t 3800\n5372\t 4400\n4772\t 4450\n4935\t 5250\n5984\t 5350\n5093\t 5800\n6426\t 5990\n5475\t 5999\n6511\t 6200\n6545\t 6390\n6870\t 6390\n6683\t 6600\n6280\t 6800\n6803\t 6800\n6648\t 6900\n7124\t 6900\n6357\t 6990\n6906\t 7490\n6825\t 7555\n7025\t 7990\n6777\t 7990\n7558\t 7990\n6892\t 8290\n"
     ]
    }
   ],
   "source": [
    "print(shaman)\n",
    "for x, y in shaman.dataset:\n",
    "    print(f\"{shaman.predict(x):.0f}\\t {y}\")"
   ]
  },
  {
   "cell_type": "code",
   "execution_count": 195,
   "metadata": {},
   "outputs": [
    {
     "output_type": "execute_result",
     "data": {
      "text/plain": [
       "array([[0.04166667, 0.098945  ],\n",
       "       [0.04166667, 0.05763546],\n",
       "       [0.04166667, 0.06204676],\n",
       "       [0.04166667, 0.07648861],\n",
       "       [0.04166667, 0.07255967],\n",
       "       [0.04166667, 0.04732869],\n",
       "       [0.04166667, 0.06876677],\n",
       "       [0.04166667, 0.0366921 ],\n",
       "       [0.04166667, 0.05957313],\n",
       "       [0.04166667, 0.03463075],\n",
       "       [0.04166667, 0.03381816],\n",
       "       [0.04166667, 0.0259978 ],\n",
       "       [0.04166667, 0.03050804],\n",
       "       [0.04166667, 0.04019641],\n",
       "       [0.04166667, 0.02762215],\n",
       "       [0.04166667, 0.03134289],\n",
       "       [0.04166667, 0.01988588],\n",
       "       [0.04166667, 0.03834119],\n",
       "       [0.04166667, 0.02512749],\n",
       "       [0.04166667, 0.02707547],\n",
       "       [0.04166667, 0.02226262],\n",
       "       [0.04166667, 0.02824055],\n",
       "       [0.04166667, 0.00944059],\n",
       "       [0.04166667, 0.0254738 ]])"
      ]
     },
     "metadata": {},
     "execution_count": 195
    }
   ],
   "source": [
    "normalize(d.x)\n",
    "# d.x / d.x.sum(axis=0)[np.newaxis, :]"
   ]
  },
  {
   "cell_type": "code",
   "execution_count": 138,
   "metadata": {},
   "outputs": [],
   "source": [
    "e = np.array([1,2,3,4])\n",
    "inputs = np.array([[1,2,3], [2,2,2], [3,3,3], [4,4,4]])"
   ]
  },
  {
   "cell_type": "code",
   "execution_count": 139,
   "metadata": {},
   "outputs": [
    {
     "output_type": "stream",
     "name": "stdout",
     "text": [
      "[1 2 3 4]\n\n\n[[1 2 3]\n [2 2 2]\n [3 3 3]\n [4 4 4]]\n"
     ]
    }
   ],
   "source": [
    "print(e)\n",
    "print(\"\\n\")\n",
    "print(inputs)"
   ]
  },
  {
   "cell_type": "code",
   "execution_count": 140,
   "metadata": {},
   "outputs": [
    {
     "output_type": "execute_result",
     "data": {
      "text/plain": [
       "array([30, 31, 32])"
      ]
     },
     "metadata": {},
     "execution_count": 140
    }
   ],
   "source": [
    "np.dot(e, inputs)"
   ]
  },
  {
   "cell_type": "code",
   "execution_count": 141,
   "metadata": {},
   "outputs": [
    {
     "output_type": "stream",
     "name": "stdout",
     "text": [
      "[[     1 240000]\n [     1 139800]\n [     1 150500]\n [     1 185530]\n [     1 176000]\n [     1 114800]\n [     1 166800]\n [     1  89000]\n [     1 144500]\n [     1  84000]\n [     1  82029]\n [     1  63060]\n [     1  74000]\n [     1  97500]\n [     1  67000]\n [     1  76025]\n [     1  48235]\n [     1  93000]\n [     1  60949]\n [     1  65674]\n [     1  54000]\n [     1  68500]\n [     1  22899]\n [     1  61789]]\n"
     ]
    }
   ],
   "source": [
    "print(d.x)"
   ]
  },
  {
   "cell_type": "code",
   "execution_count": null,
   "metadata": {},
   "outputs": [],
   "source": []
  }
 ]
}